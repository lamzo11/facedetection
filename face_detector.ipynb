{
 "cells": [
  {
   "cell_type": "code",
   "execution_count": 1,
   "metadata": {},
   "outputs": [
    {
     "data": {
      "text/plain": [
       "'4.6.0'"
      ]
     },
     "execution_count": 1,
     "metadata": {},
     "output_type": "execute_result"
    }
   ],
   "source": [
    "import cv2\n",
    "cv2.__version__"
   ]
  },
  {
   "cell_type": "code",
   "execution_count": 2,
   "metadata": {},
   "outputs": [],
   "source": [
    "#loading pre trained data from opencv\n",
    "trained_face_data = cv2.CascadeClassifier('haarcascadefrontl.xml')"
   ]
  },
  {
   "cell_type": "code",
   "execution_count": 4,
   "metadata": {},
   "outputs": [],
   "source": [
    "#choosing an image to detect face in\n",
    "img = cv2.imread('lamzo.jpg')"
   ]
  },
  {
   "cell_type": "code",
   "execution_count": 5,
   "metadata": {},
   "outputs": [],
   "source": [
    "#Converting image to grayscale\n",
    "gray_img = cv2.cvtColor(img, cv2.COLOR_BGR2GRAY)"
   ]
  },
  {
   "cell_type": "code",
   "execution_count": 6,
   "metadata": {},
   "outputs": [
    {
     "data": {
      "text/plain": [
       "-1"
      ]
     },
     "execution_count": 6,
     "metadata": {},
     "output_type": "execute_result"
    }
   ],
   "source": [
    "#displaying the gray image\n",
    "cv2.imshow('image_lamine',gray_img)\n",
    "cv2.waitKey()"
   ]
  },
  {
   "cell_type": "code",
   "execution_count": 7,
   "metadata": {},
   "outputs": [
    {
     "data": {
      "text/plain": [
       "array([[592, 369, 201, 201]])"
      ]
     },
     "execution_count": 7,
     "metadata": {},
     "output_type": "execute_result"
    }
   ],
   "source": [
    "#detecting face in image\n",
    "face_coordinates = trained_face_data.detectMultiScale(gray_img)\n",
    "face_coordinates"
   ]
  },
  {
   "cell_type": "code",
   "execution_count": 8,
   "metadata": {},
   "outputs": [
    {
     "data": {
      "text/plain": [
       "-1"
      ]
     },
     "execution_count": 8,
     "metadata": {},
     "output_type": "execute_result"
    }
   ],
   "source": [
    "#Drawing rectangle around face\n",
    "cv2.rectangle(img,(592,369),(201+592,201+369),(0,255,0),2)\n",
    "cv2.imshow('lamine',img)\n",
    "cv2.waitKey()"
   ]
  },
  {
   "cell_type": "code",
   "execution_count": 8,
   "metadata": {},
   "outputs": [
    {
     "data": {
      "text/plain": [
       "-1"
      ]
     },
     "execution_count": 8,
     "metadata": {},
     "output_type": "execute_result"
    }
   ],
   "source": [
    "#drawing the rectangle w/o hard coding the coordinates\n",
    "(x,y,w,h) = face_coordinates[0]\n",
    "cv2.rectangle(img,(x,y),(x+w,y+h),(255,0,0),2)\n",
    "cv2.imshow('lamine2',img)\n",
    "cv2.waitKey()"
   ]
  },
  {
   "cell_type": "code",
   "execution_count": 4,
   "metadata": {},
   "outputs": [
    {
     "ename": "",
     "evalue": "",
     "output_type": "error",
     "traceback": [
      "\u001b[1;31mThe Kernel crashed while executing code in the the current cell or a previous cell. Please review the code in the cell(s) to identify a possible cause of the failure. Click <a href='https://aka.ms/vscodeJupyterKernelCrash'>here</a> for more info. View Jupyter <a href='command:jupyter.viewOutput'>log</a> for further details."
     ]
    }
   ],
   "source": [
    "#detecting face with camera\n",
    "#detecting faces in real time\n",
    "webcam = cv2.VideoCapture(0)\n",
    "\n",
    "#looping in video stream to keep detection working\n",
    "while True:\n",
    "  succesful_frame_read, frame = webcam.read()\n",
    "\n",
    "  #graysale convertion\n",
    "  gray_img = cv2.cvtColor(frame, cv2.COLOR_BGR2GRAY)\n",
    "\n",
    "  #detecting face in image\n",
    "  face_coordinates = trained_face_data.detectMultiScale(frame)\n",
    "\n",
    "  #drawing the rectangle on image\n",
    "  for (x,y,w,h) in face_coordinates:\n",
    "   \n",
    "    cv2.rectangle(frame,(x,y),(x+w,y+h),(0,255,0),2)\n",
    "  cv2.imshow('camera face detection',frame) \n",
    "  key=cv2.waitKey(1)\n",
    "  #quitting the program by pressing Q\n",
    "  if key== 81 or key== 113:\n",
    "    break  \n",
    "\n",
    "#Release video capture object\n",
    "webcam.release()\n"
   ]
  }
 ],
 "metadata": {
  "kernelspec": {
   "display_name": "Python 3",
   "language": "python",
   "name": "python3"
  },
  "language_info": {
   "codemirror_mode": {
    "name": "ipython",
    "version": 3
   },
   "file_extension": ".py",
   "mimetype": "text/x-python",
   "name": "python",
   "nbconvert_exporter": "python",
   "pygments_lexer": "ipython3",
   "version": "3.11.1 (tags/v3.11.1:a7a450f, Dec  6 2022, 19:58:39) [MSC v.1934 64 bit (AMD64)]"
  },
  "orig_nbformat": 4,
  "vscode": {
   "interpreter": {
    "hash": "e3f41795f276935d3dc97cc7c4cbacfc19f319c9d11dc10681c59ca6432296eb"
   }
  }
 },
 "nbformat": 4,
 "nbformat_minor": 2
}
